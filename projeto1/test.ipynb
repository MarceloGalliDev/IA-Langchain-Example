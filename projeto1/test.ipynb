{
 "cells": [
  {
   "cell_type": "code",
   "execution_count": 3,
   "metadata": {},
   "outputs": [],
   "source": [
    "from pathlib import Path\n",
    "from langchain.chains.conversational_retrieval.base import ConversationalRetrievalChain\n",
    "from langchain_community.document_loaders.pdf import PyPDFLoader\n",
    "from langchain_community.vectorstores.faiss import FAISS\n",
    "from langchain.memory import ConversationBufferMemory\n",
    "from langchain_text_splitters import RecursiveCharacterTextSplitter\n",
    "from langchain_openai.embeddings import OpenAIEmbeddings\n",
    "from langchain_openai.chat_models import ChatOpenAI\n",
    "\n",
    "\n",
    "PASTA_ARQUIVOS = Path('/Users/marcelogalli/Documents/GitHub/IA-Langchain-Example/projeto1/arquivos').parent / 'arquivos'\n",
    "MODEL_NAME = 'gpt-4o-mini'\n",
    "\n",
    "\n",
    "def importacao_arquivos():\n",
    "    documentos = []\n",
    "    for arquivo in PASTA_ARQUIVOS.glob(\"*.pdf\"):\n",
    "        loader = PyPDFLoader(str(arquivo))\n",
    "        documentos_arquivo = loader.load()\n",
    "        # adicionando os elementos da primeira lista na segunda\n",
    "        documentos.extend(documentos_arquivo)\n",
    "    return documentos\n",
    "\n",
    "\n",
    "def split_de_documentos(documentos):\n",
    "    recursive_spliter = RecursiveCharacterTextSplitter(\n",
    "        chunk_size=2500,\n",
    "        chunk_overlap=250,\n",
    "        separators=[\"\\n\\n\", \"\\n\", \" \", \"\"]\n",
    "    )\n",
    "\n",
    "    documentos = recursive_spliter.split_documents(documentos)\n",
    "\n",
    "    for i, doc in enumerate(documentos):\n",
    "        doc.metadata['source'] = doc.metadata['source'].split('/')[1]\n",
    "        doc.metadata['doc_id'] = i\n",
    "\n",
    "    return documentos\n",
    "\n",
    "\n",
    "def cria_vector_store(documentos):\n",
    "    embedding_model = OpenAIEmbeddings()\n",
    "    vector_store = FAISS.from_documents(\n",
    "        documents=documentos,\n",
    "        embedding=embedding_model\n",
    "    )\n",
    "    return vector_store\n",
    "\n",
    "\n",
    "def cria_chain_conversa(vector_store):\n",
    "    chat = ChatOpenAI(\n",
    "        model=MODEL_NAME\n",
    "    )\n",
    "    memory = ConversationBufferMemory(\n",
    "        return_messages=True,\n",
    "        memory_key='chat_history',\n",
    "        output_key='answer'\n",
    "    )\n",
    "    retriever = vector_store.as_retriever()\n",
    "    chat_chain = ConversationalRetrievalChain.from_llm(\n",
    "        llm=chat,\n",
    "        memory=memory,\n",
    "        retriever=retriever,\n",
    "        return_source_documents=True,\n",
    "        verbose=True\n",
    "    )\n",
    "\n",
    "    return chat_chain\n"
   ]
  },
  {
   "cell_type": "code",
   "execution_count": 4,
   "metadata": {},
   "outputs": [
    {
     "name": "stderr",
     "output_type": "stream",
     "text": [
      "/var/folders/v8/mwd2w9sx4vscpt3ttqlvwws40000gn/T/ipykernel_7604/3607096731.py:54: LangChainDeprecationWarning: Please see the migration guide at: https://python.langchain.com/docs/versions/migrating_memory/\n",
      "  memory = ConversationBufferMemory(\n"
     ]
    }
   ],
   "source": [
    "documentos = importacao_arquivos()\n",
    "documentos = split_de_documentos(documentos)\n",
    "vector_store = cria_vector_store(documentos)\n",
    "chain = cria_chain_conversa(vector_store)"
   ]
  },
  {
   "cell_type": "code",
   "execution_count": 6,
   "metadata": {},
   "outputs": [
    {
     "name": "stdout",
     "output_type": "stream",
     "text": [
      "\n",
      "\n",
      "\u001b[1m> Entering new LLMChain chain...\u001b[0m\n",
      "Prompt after formatting:\n",
      "\u001b[32;1m\u001b[1;3mGiven the following conversation and a follow up question, rephrase the follow up question to be a standalone question, in its original language.\n",
      "\n",
      "Chat History:\n",
      "\n",
      "Human: quem é o outorgante dessa procuração?\n",
      "Assistant: O outorgante da procuração é JEANNE CORREIA DE MELLO DA GLORIA.\n",
      "Follow Up Input: quem é o outorgante dessa procuração?\n",
      "Standalone question:\u001b[0m\n",
      "\n",
      "\u001b[1m> Finished chain.\u001b[0m\n",
      "\n",
      "\n",
      "\u001b[1m> Entering new StuffDocumentsChain chain...\u001b[0m\n",
      "\n",
      "\n",
      "\u001b[1m> Entering new LLMChain chain...\u001b[0m\n",
      "Prompt after formatting:\n",
      "\u001b[32;1m\u001b[1;3mSystem: Use the following pieces of context to answer the user's question. \n",
      "If you don't know the answer, just say that you don't know, don't try to make up an answer.\n",
      "----------------\n",
      "PROCURAÇÃO PÚBLICA_Carina Home 501 \n",
      "Pelo presente instrumento par�cular de procuração, eu, JEANNE CORREIA DE MELLO DA GLORIA, \n",
      "brasileira, portadora do RG nº 38.986.986-7 e inscrita no CPF sob o nº 718.758.791-02, atualmente \n",
      "residente e domiciliada em 14209 Cascadian Way, Everet WA 98208, Estados Unidos da América, na \n",
      "qualidade de proprietária do imóvel denominado Carina Home 501, situado à R. Min. João Mendes, 271 \n",
      "Apto 501 - Aparecida, Santos - SP , CEP 11040-261, Brasil, imóvel este quitado em julho de 2024, nomeio \n",
      "e cons�tuo como minha procuradora a Sra. RÉGIA MEDEIROS DE PAULA DA GLORIA, brasileira, \n",
      "portadora do RG nº 20.587.850-7 e inscrita no CPF sob o nº 070.088.158-16, residente e domiciliada à \n",
      "Rua Gervasio Bonavides, 105, apto 61 A, Bairro Luiz Antonio, Guarujá - SP , a quem conﬁro amplos \n",
      "poderes para me representar em todas as reuniões e decisões referentes ao imóvel supracitado. \n",
      "Por meio deste instrumento, autorizo minha procuradora a realizar em meu nome e por minha conta: \n",
      "1. Par�cipar de todas as reuniões relacionadas ao imóvel Carina Home 501; \n",
      "2. Tomar decisões em meu nome referentes ao referido imóvel; \n",
      "3. Realizar vistorias no imóvel; \n",
      "4. Efetuar a entrega e recebimento de chaves; \n",
      "5. Assinar escrituras e demais documentos relacionados ao imóvel; \n",
      "6. Resolver quaisquer pendências administra�vas ou legais relacionadas ao imóvel. \n",
      "A presente procuração tem validade por tempo indeterminado, até que seja expressamente revogada \n",
      "por mim. \n",
      " \n",
      "Santos, 19 de julho de 2024 \n",
      " \n",
      "JEANNE CORREIA DE MELLO DA GLORIA \n",
      "CPF: 718.758.791-02 \n",
      " \n",
      " \n",
      "Documento assinado eletronicamente, conforme MP 2.200-2/01, Art. 10, § 2º, Lei 14.063, art. 4º, inc. II, e Decreto 10.543/20, art. 4º, inc. II.\n",
      "Para validar a autenticidade do documento e assinaturas eletrônicas escaneie o selo ao lado.\n",
      "Human: Quem é o outorgante dessa procuração?\u001b[0m\n",
      "\n",
      "\u001b[1m> Finished chain.\u001b[0m\n",
      "\n",
      "\u001b[1m> Finished chain.\u001b[0m\n"
     ]
    },
    {
     "data": {
      "text/plain": [
       "{'question': 'quem é o outorgante dessa procuração?',\n",
       " 'chat_history': [HumanMessage(content='quem é o outorgante dessa procuração?', additional_kwargs={}, response_metadata={}),\n",
       "  AIMessage(content='O outorgante da procuração é JEANNE CORREIA DE MELLO DA GLORIA.', additional_kwargs={}, response_metadata={}),\n",
       "  HumanMessage(content='quem é o outorgante dessa procuração?', additional_kwargs={}, response_metadata={}),\n",
       "  AIMessage(content='O outorgante da procuração é JEANNE CORREIA DE MELLO DA GLORIA.', additional_kwargs={}, response_metadata={})],\n",
       " 'answer': 'O outorgante da procuração é JEANNE CORREIA DE MELLO DA GLORIA.',\n",
       " 'source_documents': [Document(metadata={'source': 'Users', 'page': 0, 'doc_id': 0}, page_content='PROCURAÇÃO PÚBLICA_Carina Home 501 \\nPelo presente instrumento par�cular de procuração, eu, JEANNE CORREIA DE MELLO DA GLORIA, \\nbrasileira, portadora do RG nº 38.986.986-7 e inscrita no CPF sob o nº 718.758.791-02, atualmente \\nresidente e domiciliada em 14209 Cascadian Way, Everet WA 98208, Estados Unidos da América, na \\nqualidade de proprietária do imóvel denominado Carina Home 501, situado à R. Min. João Mendes, 271 \\nApto 501 - Aparecida, Santos - SP , CEP 11040-261, Brasil, imóvel este quitado em julho de 2024, nomeio \\ne cons�tuo como minha procuradora a Sra. RÉGIA MEDEIROS DE PAULA DA GLORIA, brasileira, \\nportadora do RG nº 20.587.850-7 e inscrita no CPF sob o nº 070.088.158-16, residente e domiciliada à \\nRua Gervasio Bonavides, 105, apto 61 A, Bairro Luiz Antonio, Guarujá - SP , a quem conﬁro amplos \\npoderes para me representar em todas as reuniões e decisões referentes ao imóvel supracitado. \\nPor meio deste instrumento, autorizo minha procuradora a realizar em meu nome e por minha conta: \\n1. Par�cipar de todas as reuniões relacionadas ao imóvel Carina Home 501; \\n2. Tomar decisões em meu nome referentes ao referido imóvel; \\n3. Realizar vistorias no imóvel; \\n4. Efetuar a entrega e recebimento de chaves; \\n5. Assinar escrituras e demais documentos relacionados ao imóvel; \\n6. Resolver quaisquer pendências administra�vas ou legais relacionadas ao imóvel. \\nA presente procuração tem validade por tempo indeterminado, até que seja expressamente revogada \\npor mim. \\n \\nSantos, 19 de julho de 2024 \\n \\nJEANNE CORREIA DE MELLO DA GLORIA \\nCPF: 718.758.791-02 \\n \\n \\nDocumento assinado eletronicamente, conforme MP 2.200-2/01, Art. 10, § 2º, Lei 14.063, art. 4º, inc. II, e Decreto 10.543/20, art. 4º, inc. II.\\nPara validar a autenticidade do documento e assinaturas eletrônicas escaneie o selo ao lado.')]}"
      ]
     },
     "execution_count": 6,
     "metadata": {},
     "output_type": "execute_result"
    }
   ],
   "source": [
    "chain.invoke({'question': 'quem é o outorgante dessa procuração?'})"
   ]
  }
 ],
 "metadata": {
  "kernelspec": {
   "display_name": ".venv",
   "language": "python",
   "name": "python3"
  },
  "language_info": {
   "codemirror_mode": {
    "name": "ipython",
    "version": 3
   },
   "file_extension": ".py",
   "mimetype": "text/x-python",
   "name": "python",
   "nbconvert_exporter": "python",
   "pygments_lexer": "ipython3",
   "version": "3.11.9"
  }
 },
 "nbformat": 4,
 "nbformat_minor": 2
}
